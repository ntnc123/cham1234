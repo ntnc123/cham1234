{
 "cells": [
  {
   "cell_type": "code",
   "execution_count": 1,
   "id": "ccbf7e45",
   "metadata": {},
   "outputs": [
    {
     "name": "stdout",
     "output_type": "stream",
     "text": [
      "Requirement already satisfied: numpy==1.26.4 in c:\\users\\asus\\appdata\\local\\packages\\pythonsoftwarefoundation.python.3.11_qbz5n2kfra8p0\\localcache\\local-packages\\python311\\site-packages (1.26.4)\n"
     ]
    },
    {
     "name": "stderr",
     "output_type": "stream",
     "text": [
      "\n",
      "[notice] A new release of pip is available: 24.0 -> 25.1\n",
      "[notice] To update, run: C:\\Users\\ASUS\\AppData\\Local\\Microsoft\\WindowsApps\\PythonSoftwareFoundation.Python.3.11_qbz5n2kfra8p0\\python.exe -m pip install --upgrade pip\n"
     ]
    }
   ],
   "source": [
    "!pip install numpy==1.26.4"
   ]
  },
  {
   "cell_type": "code",
   "execution_count": 2,
   "id": "60548a78",
   "metadata": {},
   "outputs": [
    {
     "name": "stdout",
     "output_type": "stream",
     "text": [
      "1.26.4\n"
     ]
    }
   ],
   "source": [
    "import numpy as np\n",
    "print(np.__version__)"
   ]
  },
  {
   "cell_type": "code",
   "execution_count": 5,
   "id": "f5420664",
   "metadata": {},
   "outputs": [
    {
     "name": "stdout",
     "output_type": "stream",
     "text": [
      "Requirement already satisfied: nltk in c:\\users\\asus\\appdata\\local\\packages\\pythonsoftwarefoundation.python.3.11_qbz5n2kfra8p0\\localcache\\local-packages\\python311\\site-packages (3.9.1)\n",
      "Requirement already satisfied: click in c:\\users\\asus\\appdata\\local\\packages\\pythonsoftwarefoundation.python.3.11_qbz5n2kfra8p0\\localcache\\local-packages\\python311\\site-packages (from nltk) (8.1.8)\n",
      "Requirement already satisfied: joblib in c:\\users\\asus\\appdata\\local\\packages\\pythonsoftwarefoundation.python.3.11_qbz5n2kfra8p0\\localcache\\local-packages\\python311\\site-packages (from nltk) (1.4.2)\n",
      "Requirement already satisfied: regex>=2021.8.3 in c:\\users\\asus\\appdata\\local\\packages\\pythonsoftwarefoundation.python.3.11_qbz5n2kfra8p0\\localcache\\local-packages\\python311\\site-packages (from nltk) (2024.11.6)\n",
      "Requirement already satisfied: tqdm in c:\\users\\asus\\appdata\\local\\packages\\pythonsoftwarefoundation.python.3.11_qbz5n2kfra8p0\\localcache\\local-packages\\python311\\site-packages (from nltk) (4.67.1)\n",
      "Requirement already satisfied: colorama in c:\\users\\asus\\appdata\\local\\packages\\pythonsoftwarefoundation.python.3.11_qbz5n2kfra8p0\\localcache\\local-packages\\python311\\site-packages (from click->nltk) (0.4.6)\n",
      "Note: you may need to restart the kernel to use updated packages.\n"
     ]
    },
    {
     "name": "stderr",
     "output_type": "stream",
     "text": [
      "\n",
      "[notice] A new release of pip is available: 24.0 -> 25.1\n",
      "[notice] To update, run: C:\\Users\\ASUS\\AppData\\Local\\Microsoft\\WindowsApps\\PythonSoftwareFoundation.Python.3.11_qbz5n2kfra8p0\\python.exe -m pip install --upgrade pip\n"
     ]
    }
   ],
   "source": [
    "pip install nltk"
   ]
  },
  {
   "cell_type": "code",
   "execution_count": 4,
   "id": "e0e8b488",
   "metadata": {},
   "outputs": [
    {
     "name": "stdout",
     "output_type": "stream",
     "text": [
      "Requirement already satisfied: gensim in c:\\users\\asus\\appdata\\local\\packages\\pythonsoftwarefoundation.python.3.11_qbz5n2kfra8p0\\localcache\\local-packages\\python311\\site-packages (4.3.3)\n",
      "Requirement already satisfied: numpy<2.0,>=1.18.5 in c:\\users\\asus\\appdata\\local\\packages\\pythonsoftwarefoundation.python.3.11_qbz5n2kfra8p0\\localcache\\local-packages\\python311\\site-packages (from gensim) (1.26.4)\n",
      "Requirement already satisfied: scipy<1.14.0,>=1.7.0 in c:\\users\\asus\\appdata\\local\\packages\\pythonsoftwarefoundation.python.3.11_qbz5n2kfra8p0\\localcache\\local-packages\\python311\\site-packages (from gensim) (1.13.1)\n",
      "Requirement already satisfied: smart-open>=1.8.1 in c:\\users\\asus\\appdata\\local\\packages\\pythonsoftwarefoundation.python.3.11_qbz5n2kfra8p0\\localcache\\local-packages\\python311\\site-packages (from gensim) (7.1.0)\n",
      "Requirement already satisfied: wrapt in c:\\users\\asus\\appdata\\local\\packages\\pythonsoftwarefoundation.python.3.11_qbz5n2kfra8p0\\localcache\\local-packages\\python311\\site-packages (from smart-open>=1.8.1->gensim) (1.17.2)\n",
      "Note: you may need to restart the kernel to use updated packages.\n"
     ]
    },
    {
     "name": "stderr",
     "output_type": "stream",
     "text": [
      "\n",
      "[notice] A new release of pip is available: 24.0 -> 25.1\n",
      "[notice] To update, run: C:\\Users\\ASUS\\AppData\\Local\\Microsoft\\WindowsApps\\PythonSoftwareFoundation.Python.3.11_qbz5n2kfra8p0\\python.exe -m pip install --upgrade pip\n"
     ]
    }
   ],
   "source": [
    "pip install gensim"
   ]
  },
  {
   "cell_type": "code",
   "execution_count": 7,
   "id": "fadb4a77",
   "metadata": {},
   "outputs": [
    {
     "name": "stdout",
     "output_type": "stream",
     "text": [
      "Requirement already satisfied: scikit-learn in c:\\users\\asus\\appdata\\local\\packages\\pythonsoftwarefoundation.python.3.11_qbz5n2kfra8p0\\localcache\\local-packages\\python311\\site-packages (1.6.1)\n",
      "Requirement already satisfied: numpy>=1.19.5 in c:\\users\\asus\\appdata\\local\\packages\\pythonsoftwarefoundation.python.3.11_qbz5n2kfra8p0\\localcache\\local-packages\\python311\\site-packages (from scikit-learn) (1.26.4)\n",
      "Requirement already satisfied: scipy>=1.6.0 in c:\\users\\asus\\appdata\\local\\packages\\pythonsoftwarefoundation.python.3.11_qbz5n2kfra8p0\\localcache\\local-packages\\python311\\site-packages (from scikit-learn) (1.13.1)\n",
      "Requirement already satisfied: joblib>=1.2.0 in c:\\users\\asus\\appdata\\local\\packages\\pythonsoftwarefoundation.python.3.11_qbz5n2kfra8p0\\localcache\\local-packages\\python311\\site-packages (from scikit-learn) (1.4.2)\n",
      "Requirement already satisfied: threadpoolctl>=3.1.0 in c:\\users\\asus\\appdata\\local\\packages\\pythonsoftwarefoundation.python.3.11_qbz5n2kfra8p0\\localcache\\local-packages\\python311\\site-packages (from scikit-learn) (3.6.0)\n",
      "Note: you may need to restart the kernel to use updated packages.\n"
     ]
    },
    {
     "name": "stderr",
     "output_type": "stream",
     "text": [
      "\n",
      "[notice] A new release of pip is available: 24.0 -> 25.1\n",
      "[notice] To update, run: C:\\Users\\ASUS\\AppData\\Local\\Microsoft\\WindowsApps\\PythonSoftwareFoundation.Python.3.11_qbz5n2kfra8p0\\python.exe -m pip install --upgrade pip\n"
     ]
    }
   ],
   "source": [
    "pip install scikit-learn"
   ]
  },
  {
   "cell_type": "code",
   "execution_count": 8,
   "id": "84bb7ad9",
   "metadata": {},
   "outputs": [],
   "source": [
    "import nltk\n",
    "from sklearn.cluster import KMeans\n",
    "from gensim.models import Word2Vec\n",
    "from sklearn.metrics.pairwise import cosine_similarity\n",
    "import numpy as np"
   ]
  },
  {
   "cell_type": "code",
   "execution_count": 10,
   "id": "9d16a164",
   "metadata": {},
   "outputs": [
    {
     "name": "stderr",
     "output_type": "stream",
     "text": [
      "[nltk_data] Downloading package punkt to\n",
      "[nltk_data]     C:\\Users\\ASUS\\AppData\\Roaming\\nltk_data...\n",
      "[nltk_data]   Package punkt is already up-to-date!\n",
      "[nltk_data] Downloading package punkt_tab to\n",
      "[nltk_data]     C:\\Users\\ASUS\\AppData\\Roaming\\nltk_data...\n",
      "[nltk_data]   Package punkt_tab is already up-to-date!\n"
     ]
    },
    {
     "data": {
      "text/plain": [
       "True"
      ]
     },
     "execution_count": 10,
     "metadata": {},
     "output_type": "execute_result"
    }
   ],
   "source": [
    "import nltk\n",
    "nltk.download('punkt')\n",
    "nltk.download('punkt_tab')"
   ]
  },
  {
   "cell_type": "code",
   "execution_count": 11,
   "id": "089639f8",
   "metadata": {},
   "outputs": [],
   "source": [
    "# Bước 1: Tiền xử lý văn bản và tách câu\n",
    "def preprocess_text(text):\n",
    "    text = text.lower().strip()\n",
    "    # Tách câu dựa trên dấu chấm, dấu hỏi, dấu cảm\n",
    "    sentences = [sent.strip() for sent in nltk.regexp_tokenize(text, pattern=r'[^.!?]+')]\n",
    "    return sentences"
   ]
  },
  {
   "cell_type": "code",
   "execution_count": 12,
   "id": "8fd5ce96",
   "metadata": {},
   "outputs": [],
   "source": [
    "# Bước 2: Vector hóa từ và câu\n",
    "def train_word2vec(sentences):\n",
    "    tokenized_sentences = [nltk.word_tokenize(sent) for sent in sentences]\n",
    "    model = Word2Vec(sentences=tokenized_sentences, vector_size=128, window=5, min_count=1)\n",
    "    return model, tokenized_sentences\n",
    "\n",
    "def sentence_vector(model, tokenized_sentence):\n",
    "    vectors = [model.wv[word] for word in tokenized_sentence if word in model.wv]\n",
    "    return np.mean(vectors, axis=0) if vectors else np.zeros(model.vector_size)"
   ]
  },
  {
   "cell_type": "code",
   "execution_count": 13,
   "id": "97886438",
   "metadata": {},
   "outputs": [],
   "source": [
    "# Bước 3: Phân cụm\n",
    "def cluster_sentences(sent_vectors, n_clusters):\n",
    "    kmeans = KMeans(n_clusters=n_clusters, random_state=42)\n",
    "    kmeans.fit(sent_vectors)\n",
    "    return kmeans.labels_, kmeans.cluster_centers_"
   ]
  },
  {
   "cell_type": "code",
   "execution_count": 14,
   "id": "a17a7905",
   "metadata": {},
   "outputs": [],
   "source": [
    "# Bước 4: Tìm câu đại diện mỗi cụm\n",
    "def find_representative_sentences(sent_vectors, labels, centers):\n",
    "    representatives = []\n",
    "    for i in range(len(centers)):\n",
    "        indices = [j for j, label in enumerate(labels) if label == i]\n",
    "        if indices:\n",
    "            sim = cosine_similarity([centers[i]], [sent_vectors[j] for j in indices])\n",
    "            best_index = indices[np.argmax(sim)]\n",
    "            representatives.append(best_index)\n",
    "    return sorted(representatives)"
   ]
  },
  {
   "cell_type": "code",
   "execution_count": 15,
   "id": "de495950",
   "metadata": {},
   "outputs": [],
   "source": [
    "# Bước 5: Sắp xếp và sinh đoạn tóm tắt\n",
    "def generate_summary(sentences, rep_indices):\n",
    "    summary = [sentences[i] for i in rep_indices]\n",
    "    return ' '.join(summary)"
   ]
  },
  {
   "cell_type": "code",
   "execution_count": 16,
   "id": "d2f3ad74",
   "metadata": {},
   "outputs": [],
   "source": [
    "text = \"\"\"\n",
    "Việt Nam là một đất nước xinh đẹp ở Đông Nam Á. Thủ đô của Việt Nam là Hà Nội, nổi tiếng với Hồ Hoàn Kiếm và Phố Cổ.\n",
    "Ẩm thực Việt Nam rất đa dạng, với các món ăn nổi tiếng như phở, bún chả, nem rán.\n",
    "Người Việt Nam thân thiện và hiếu khách, luôn chào đón du khách quốc tế.\n",
    "Vịnh Hạ Long là một trong bảy kỳ quan thiên nhiên mới của thế giới.\n",
    "Du lịch Việt Nam đang ngày càng phát triển, thu hút nhiều khách du lịch từ khắp nơi trên thế giới.\n",
    "\"\"\""
   ]
  },
  {
   "cell_type": "code",
   "execution_count": 17,
   "id": "dbb71722",
   "metadata": {},
   "outputs": [],
   "source": [
    "# Chạy từng bước\n",
    "sentences = preprocess_text(text)"
   ]
  },
  {
   "cell_type": "code",
   "execution_count": 18,
   "id": "12b24b09",
   "metadata": {},
   "outputs": [],
   "source": [
    "model, tokenized_sentences = train_word2vec(sentences)"
   ]
  },
  {
   "cell_type": "code",
   "execution_count": 19,
   "id": "aeda68f0",
   "metadata": {},
   "outputs": [],
   "source": [
    "sent_vectors = np.array([sentence_vector(model, sent) for sent in tokenized_sentences])"
   ]
  },
  {
   "cell_type": "code",
   "execution_count": 20,
   "id": "6f65cb11",
   "metadata": {},
   "outputs": [],
   "source": [
    "n_clusters = min(3, len(sentences))  # không phân cụm nhiều hơn số câu"
   ]
  },
  {
   "cell_type": "code",
   "execution_count": 21,
   "id": "ffe3d717",
   "metadata": {},
   "outputs": [],
   "source": [
    "labels, centers = cluster_sentences(sent_vectors, n_clusters)"
   ]
  },
  {
   "cell_type": "code",
   "execution_count": 22,
   "id": "3fbfc231",
   "metadata": {},
   "outputs": [],
   "source": [
    "rep_indices = find_representative_sentences(sent_vectors, labels, centers)"
   ]
  },
  {
   "cell_type": "code",
   "execution_count": 23,
   "id": "b8881692",
   "metadata": {},
   "outputs": [
    {
     "name": "stdout",
     "output_type": "stream",
     "text": [
      "=== TÓM TẮT ===\n",
      "việt nam là một đất nước xinh đẹp ở đông nam á ẩm thực việt nam rất đa dạng, với các món ăn nổi tiếng như phở, bún chả, nem rán du lịch việt nam đang ngày càng phát triển, thu hút nhiều khách du lịch từ khắp nơi trên thế giới\n"
     ]
    }
   ],
   "source": [
    "summary = generate_summary(sentences, rep_indices)\n",
    "\n",
    "print(\"=== TÓM TẮT ===\")\n",
    "print(summary)"
   ]
  }
 ],
 "metadata": {
  "kernelspec": {
   "display_name": "Python 3",
   "language": "python",
   "name": "python3"
  },
  "language_info": {
   "codemirror_mode": {
    "name": "ipython",
    "version": 3
   },
   "file_extension": ".py",
   "mimetype": "text/x-python",
   "name": "python",
   "nbconvert_exporter": "python",
   "pygments_lexer": "ipython3",
   "version": "3.11.9"
  }
 },
 "nbformat": 4,
 "nbformat_minor": 5
}
